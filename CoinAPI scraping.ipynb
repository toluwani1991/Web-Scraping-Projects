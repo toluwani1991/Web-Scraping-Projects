{
 "cells": [
  {
   "cell_type": "code",
   "execution_count": null,
   "id": "cd953601",
   "metadata": {},
   "outputs": [],
   "source": [
    "import requests\n",
    "import json\n",
    "import psycopg2"
   ]
  },
  {
   "cell_type": "code",
   "execution_count": null,
   "id": "a33214c1",
   "metadata": {},
   "outputs": [],
   "source": [
    "api_key = '7FFCDDCD-C07A-4772-AED5-B2E4893C1002'\n",
    "url = 'https://rest.coinapi.io/v1/trades/BITSTAMP_SPOT_XRP_USD/history?time_start=2016-01-01T00:00:00'\n",
    "headers = {'X-CoinAPI-Key' : api_key}\n",
    "response = requests.get(url, headers=headers)\n",
    "\n",
    "url_assets = 'https://rest.coinapi.io/v1/assets'\n",
    "res_asset = requests.get(url_assets, headers=headers)"
   ]
  },
  {
   "cell_type": "code",
   "execution_count": null,
   "id": "dcde2053",
   "metadata": {},
   "outputs": [],
   "source": [
    "def get_crypto_history(symbol):\n",
    "    url = 'https://rest.coinapi.io/v1/trades/BITSTAMP_SPOT_'+ symbol.upper() +'_USD/history?time_start=2016-01-01T00:00:00'\n",
    "    headers = {'X-CoinAPI-Key' : api_key}\n",
    "    response = requests.get(url, headers=headers)\n",
    "    return response.json()\n",
    "\n",
    "get_crypto_history('ltc')"
   ]
  },
  {
   "cell_type": "code",
   "execution_count": null,
   "id": "b4cf82d8",
   "metadata": {},
   "outputs": [],
   "source": [
    "def load_quote:\n",
    "    try:\n",
    "        connection = psycopg2.connect(user = \"felix\",\n",
    "                                  password = \"myPassword\",\n",
    "                                  host = \"52.56.217.238\",\n",
    "                                  port = \"5432\",\n",
    "                                  database = \"felix\")\n",
    "\n",
    "        cursor = connection.cursor()\n",
    "    # Print PostgreSQL Connection properties\n",
    "        print ( connection.get_dsn_parameters(),\"\\n\")\n",
    "    \n",
    "        rsp2 = res_asset.json()\n",
    "        for i in range(len(rsp2)):\n",
    "            cursor.execute(\"\"\"INSERT INTO \"Crypto\" (asset_id, name, type_is_crypto) VALUES (%s, %s, %s)\"\"\", \n",
    "                           (rsp2[i].get('asset_id'), rsp2[i].get('name'),rsp2[i].get('type_is_crypto')))\n",
    "            connection.commit()\n",
    "    #count = cursor.rowcount\n",
    "    except (Exception, psycopg2.Error) as error :\n",
    "        print (\"Error while connecting to PostgreSQL\", error)\n",
    "    finally:\n",
    "    #closing database connection.\n",
    "            if(connection):\n",
    "                cursor.close()\n",
    "                connection.close()\n",
    "                print(\"PostgreSQL connection is closed\")\n",
    "    "
   ]
  },
  {
   "cell_type": "code",
   "execution_count": null,
   "id": "621ccbfc",
   "metadata": {},
   "outputs": [],
   "source": [
    "[i.values() for i in rsp]"
   ]
  },
  {
   "cell_type": "code",
   "execution_count": null,
   "id": "bb8b31cf",
   "metadata": {},
   "outputs": [],
   "source": [
    "pip install --trusted-host pypi.org --trusted-host files.pythonhosted.org --trusted-host pypi.python.org psycopg2"
   ]
  },
  {
   "cell_type": "code",
   "execution_count": null,
   "id": "78fa9339",
   "metadata": {},
   "outputs": [],
   "source": [
    "def load_history:\n",
    "    try:\n",
    "        connection = psycopg2.connect(user = \"felix\",\n",
    "                                  password = \"myPassword\",\n",
    "                                  host = \"52.56.217.238\",\n",
    "                                  port = \"5432\",\n",
    "                                  database = \"felix\")\n",
    "\n",
    "        cursor = connection.cursor()\n",
    "    # Print PostgreSQL Connection properties\n",
    "        print ( connection.get_dsn_parameters(),\"\\n\")\n",
    "    #cursor.execute('INSERT INTO \"Crypto\"(name, asset_id) VALUES(\"Audi\", \"52642\")')\n",
    "    #postgres_insert_query = 'INSERT INTO \"Crypto\" (name, asset_id, type_is_crypto) VALUES (%s,%s,%s)'\n",
    "    #v1 = 'ddd'\n",
    "    #v2 = 'One Plus 6'\n",
    "    #record_to_insert = (v2, v2, '1')\n",
    "    #cursor.execute(postgres_insert_query, record_to_insert)\n",
    "    \n",
    "    #rsp2 = res_asset.json()\n",
    "    #for i in range(len(rsp2)):\n",
    "    #    cursor.execute(\"\"\"INSERT INTO \"Crypto\" (asset_id, name, type_is_crypto) VALUES (%s, %s, %s)\"\"\", \n",
    "    #                   (rsp2[i].get('asset_id'), rsp2[i].get('name'),rsp2[i].get('type_is_crypto')))\n",
    "    #    connection.commit()\n",
    "    #count = cursor.rowcount\n",
    "    \n",
    "        Query = \"\"\"select * from \"Crypto\" where asset_id in ('ETH','LTC','XRP','BTC')\"\"\"\n",
    "        cursor.execute(Query)\n",
    "        record = cursor.fetchall()\n",
    "    #print(\"You are connected to - \", record,\"\\n\")\n",
    "    #print(\"Print each row and it's columns values\")\n",
    "        for row in record:\n",
    "            val = get_crypto_history(row[2])\n",
    "            for i in range(len(val)):\n",
    "                cursor.execute(\"\"\"INSERT INTO \"history\" (asset_id, symbol_id, time_exchange, time_coinapi,\n",
    "                uuid, price, size, taker_side) VALUES (%s, %s, %s, %s, %s, %s, %s, %s)\"\"\", \n",
    "                               (row[2], val[i].get('symbol_id'),val[i].get('time_exchange'),\n",
    "                               val[i].get('time_coinapi'),val[i].get('uuid'),val[i].get('price'),\n",
    "                                val[i].get('size'),val[i].get('taker_side')))\n",
    "                connection.commit()\n",
    "    #count = cursor.rowcount\n",
    "                      \n",
    "                           \n",
    "        #print(get_crypto_history(row[2]))\n",
    "        #print(\"Id = \", row[0], )\n",
    "        #print(\"Model = \", row[1])\n",
    "        #print(\"Price  = \", row[2], \"\\n\")\n",
    "\n",
    "    except (Exception, psycopg2.Error) as error :\n",
    "        print (\"Error while connecting to PostgreSQL\", error)\n",
    "    finally:\n",
    "    #closing database connection.\n",
    "            if(connection):\n",
    "                cursor.close()\n",
    "                connection.close()\n",
    "                print(\"PostgreSQL connection is closed\")\n",
    "\n"
   ]
  },
  {
   "cell_type": "code",
   "execution_count": null,
   "id": "49fd7939",
   "metadata": {},
   "outputs": [],
   "source": []
  },
  {
   "cell_type": "code",
   "execution_count": null,
   "id": "a1248752",
   "metadata": {},
   "outputs": [],
   "source": []
  },
  {
   "cell_type": "code",
   "execution_count": null,
   "id": "2c99c5ec",
   "metadata": {},
   "outputs": [],
   "source": []
  },
  {
   "cell_type": "code",
   "execution_count": null,
   "id": "46d47e9e",
   "metadata": {},
   "outputs": [],
   "source": []
  },
  {
   "cell_type": "code",
   "execution_count": null,
   "id": "3ffe2e97",
   "metadata": {},
   "outputs": [],
   "source": []
  },
  {
   "cell_type": "code",
   "execution_count": null,
   "id": "20debbd1",
   "metadata": {},
   "outputs": [],
   "source": []
  }
 ],
 "metadata": {
  "kernelspec": {
   "display_name": "Python 3 (ipykernel)",
   "language": "python",
   "name": "python3"
  },
  "language_info": {
   "codemirror_mode": {
    "name": "ipython",
    "version": 3
   },
   "file_extension": ".py",
   "mimetype": "text/x-python",
   "name": "python",
   "nbconvert_exporter": "python",
   "pygments_lexer": "ipython3",
   "version": "3.9.12"
  }
 },
 "nbformat": 4,
 "nbformat_minor": 5
}
